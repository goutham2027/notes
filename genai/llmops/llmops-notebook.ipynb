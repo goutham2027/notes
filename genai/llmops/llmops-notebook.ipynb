{
 "cells": [
  {
   "cell_type": "code",
   "execution_count": 2,
   "id": "9ddb1d92-5c46-47ad-abe4-d5b718be7005",
   "metadata": {},
   "outputs": [],
   "source": [
    "from utils import authenticate\n",
    "\n",
    "credentials, PROJECT_ID = authenticate()"
   ]
  },
  {
   "cell_type": "code",
   "execution_count": null,
   "id": "11e38c23-d999-4590-a2d4-4ae81d22e8fc",
   "metadata": {},
   "outputs": [],
   "source": [
    "print(PROJECT_ID)"
   ]
  },
  {
   "cell_type": "code",
   "execution_count": 4,
   "id": "e1e76081-8433-4b9c-b6c9-9f7ba2b5bae1",
   "metadata": {},
   "outputs": [],
   "source": [
    "REGION = \"us-central1\""
   ]
  },
  {
   "cell_type": "code",
   "execution_count": 5,
   "id": "6bbbc939-1a96-43d0-90ac-7a83569d7c7c",
   "metadata": {},
   "outputs": [],
   "source": [
    "import vertexai"
   ]
  },
  {
   "cell_type": "code",
   "execution_count": 6,
   "id": "a9cd5f7f-7a94-4812-bbef-c421d3eb9b4a",
   "metadata": {},
   "outputs": [],
   "source": [
    "vertexai.init(project=PROJECT_ID, location=REGION, credentials=credentials)"
   ]
  },
  {
   "cell_type": "code",
   "execution_count": 7,
   "id": "8f78d08a-2ae6-41ac-8b4d-c7b0dce968b4",
   "metadata": {},
   "outputs": [],
   "source": [
    "from google.cloud import bigquery"
   ]
  },
  {
   "cell_type": "code",
   "execution_count": 8,
   "id": "db7ffe16-4c8a-4efe-8ee4-5219f168f8d6",
   "metadata": {},
   "outputs": [],
   "source": [
    "bq_client = bigquery.Client(project=PROJECT_ID, credentials=credentials)"
   ]
  },
  {
   "cell_type": "code",
   "execution_count": 9,
   "id": "73b79efc-13f5-418b-8566-6be963d75cad",
   "metadata": {},
   "outputs": [],
   "source": [
    "QUERY_TABLES = \"\"\"\n",
    "SELECT\n",
    "    table_name\n",
    "FROM\n",
    "    `bigquery-public-data.stackoverflow.INFORMATION_SCHEMA.TABLES`\n",
    "\"\"\""
   ]
  },
  {
   "cell_type": "code",
   "execution_count": 10,
   "id": "6d7861ff-978a-4708-bd4f-466d28c839cd",
   "metadata": {},
   "outputs": [],
   "source": [
    "query_job = bq_client.query(QUERY_TABLES)"
   ]
  },
  {
   "cell_type": "code",
   "execution_count": 11,
   "id": "f23c5cf8-8388-4a61-8fd7-421831de1d4b",
   "metadata": {},
   "outputs": [
    {
     "name": "stdout",
     "output_type": "stream",
     "text": [
      "posts_answers\n",
      "users\n",
      "posts_orphaned_tag_wiki\n",
      "posts_tag_wiki\n",
      "stackoverflow_posts\n",
      "posts_questions\n",
      "comments\n",
      "posts_tag_wiki_excerpt\n",
      "posts_wiki_placeholder\n",
      "posts_privilege_wiki\n",
      "post_history\n",
      "badges\n",
      "post_links\n",
      "tags\n",
      "votes\n",
      "posts_moderator_nomination\n"
     ]
    }
   ],
   "source": [
    "for row in query_job:\n",
    "    for value in row.values():\n",
    "        print(value)"
   ]
  },
  {
   "cell_type": "code",
   "execution_count": 12,
   "id": "a44ca480-99d0-4ee8-aa57-049f28864347",
   "metadata": {},
   "outputs": [],
   "source": [
    "INSPECT_QUERY = \"\"\"\n",
    "SELECT\n",
    "    *\n",
    "FROM\n",
    "    `bigquery-public-data.stackoverflow.posts_questions`\n",
    "LIMIT 3\n",
    "\"\"\""
   ]
  },
  {
   "cell_type": "code",
   "execution_count": 13,
   "id": "ad3299ea-bc88-41d3-ae0d-0a4a7f526dcd",
   "metadata": {},
   "outputs": [],
   "source": [
    "import pandas as pd"
   ]
  },
  {
   "cell_type": "code",
   "execution_count": 14,
   "id": "4e47b38b-8608-4c86-842b-1b47e05c833b",
   "metadata": {},
   "outputs": [],
   "source": [
    "query_job = bq_client.query(INSPECT_QUERY)"
   ]
  },
  {
   "cell_type": "code",
   "execution_count": 15,
   "id": "f73fb61b-62ce-4d9e-b419-1d491f3f83f4",
   "metadata": {},
   "outputs": [
    {
     "data": {
      "text/html": [
       "<div>\n",
       "<style scoped>\n",
       "    .dataframe tbody tr th:only-of-type {\n",
       "        vertical-align: middle;\n",
       "    }\n",
       "\n",
       "    .dataframe tbody tr th {\n",
       "        vertical-align: top;\n",
       "    }\n",
       "\n",
       "    .dataframe thead th {\n",
       "        text-align: right;\n",
       "    }\n",
       "</style>\n",
       "<table border=\"1\" class=\"dataframe\">\n",
       "  <thead>\n",
       "    <tr style=\"text-align: right;\">\n",
       "      <th></th>\n",
       "      <th>id</th>\n",
       "      <th>title</th>\n",
       "      <th>body</th>\n",
       "      <th>accepted_answer_id</th>\n",
       "      <th>answer_count</th>\n",
       "      <th>comment_count</th>\n",
       "      <th>community_owned_date</th>\n",
       "      <th>creation_date</th>\n",
       "      <th>favorite_count</th>\n",
       "      <th>last_activity_date</th>\n",
       "      <th>last_edit_date</th>\n",
       "      <th>last_editor_display_name</th>\n",
       "      <th>last_editor_user_id</th>\n",
       "      <th>owner_display_name</th>\n",
       "      <th>owner_user_id</th>\n",
       "      <th>parent_id</th>\n",
       "      <th>post_type_id</th>\n",
       "      <th>score</th>\n",
       "      <th>tags</th>\n",
       "      <th>view_count</th>\n",
       "    </tr>\n",
       "  </thead>\n",
       "  <tbody>\n",
       "    <tr>\n",
       "      <th>0</th>\n",
       "      <td>64177830</td>\n",
       "      <td>How to read to a certain point in python for e...</td>\n",
       "      <td>&lt;p&gt;I tried to read from every line until the &lt;...</td>\n",
       "      <td>NaN</td>\n",
       "      <td>2</td>\n",
       "      <td>0</td>\n",
       "      <td>NaT</td>\n",
       "      <td>2020-10-02 20:24:36.460000+00:00</td>\n",
       "      <td>NaN</td>\n",
       "      <td>2020-10-03 19:36:27.847000+00:00</td>\n",
       "      <td>2020-10-03 00:43:19.873000+00:00</td>\n",
       "      <td>None</td>\n",
       "      <td>7589636.0</td>\n",
       "      <td>user13798483</td>\n",
       "      <td>NaN</td>\n",
       "      <td>None</td>\n",
       "      <td>1</td>\n",
       "      <td>0</td>\n",
       "      <td>python|function|variables|line</td>\n",
       "      <td>256</td>\n",
       "    </tr>\n",
       "    <tr>\n",
       "      <th>1</th>\n",
       "      <td>64183547</td>\n",
       "      <td>How to use nested \"map\"</td>\n",
       "      <td>&lt;p&gt;I would like to map a json, based on some n...</td>\n",
       "      <td>64183941.0</td>\n",
       "      <td>2</td>\n",
       "      <td>0</td>\n",
       "      <td>NaT</td>\n",
       "      <td>2020-10-03 11:08:52.807000+00:00</td>\n",
       "      <td>NaN</td>\n",
       "      <td>2020-10-04 10:24:48.673000+00:00</td>\n",
       "      <td>NaT</td>\n",
       "      <td>None</td>\n",
       "      <td>NaN</td>\n",
       "      <td>None</td>\n",
       "      <td>11380853.0</td>\n",
       "      <td>None</td>\n",
       "      <td>1</td>\n",
       "      <td>2</td>\n",
       "      <td>dataweave|mulesoft</td>\n",
       "      <td>256</td>\n",
       "    </tr>\n",
       "    <tr>\n",
       "      <th>2</th>\n",
       "      <td>64220954</td>\n",
       "      <td>Azure DevOps Ephemeral agents not working</td>\n",
       "      <td>&lt;p&gt;I am trying to configure an Ephemeral agent...</td>\n",
       "      <td>64246902.0</td>\n",
       "      <td>2</td>\n",
       "      <td>0</td>\n",
       "      <td>NaT</td>\n",
       "      <td>2020-10-06 07:11:42.210000+00:00</td>\n",
       "      <td>1.0</td>\n",
       "      <td>2020-10-07 15:04:27.907000+00:00</td>\n",
       "      <td>NaT</td>\n",
       "      <td>None</td>\n",
       "      <td>NaN</td>\n",
       "      <td>None</td>\n",
       "      <td>5311841.0</td>\n",
       "      <td>None</td>\n",
       "      <td>1</td>\n",
       "      <td>0</td>\n",
       "      <td>azure|azure-devops|agent|azure-container-insta...</td>\n",
       "      <td>256</td>\n",
       "    </tr>\n",
       "  </tbody>\n",
       "</table>\n",
       "</div>"
      ],
      "text/plain": [
       "         id                                              title  \\\n",
       "0  64177830  How to read to a certain point in python for e...   \n",
       "1  64183547                            How to use nested \"map\"   \n",
       "2  64220954          Azure DevOps Ephemeral agents not working   \n",
       "\n",
       "                                                body  accepted_answer_id  \\\n",
       "0  <p>I tried to read from every line until the <...                 NaN   \n",
       "1  <p>I would like to map a json, based on some n...          64183941.0   \n",
       "2  <p>I am trying to configure an Ephemeral agent...          64246902.0   \n",
       "\n",
       "   answer_count  comment_count community_owned_date  \\\n",
       "0             2              0                  NaT   \n",
       "1             2              0                  NaT   \n",
       "2             2              0                  NaT   \n",
       "\n",
       "                     creation_date  favorite_count  \\\n",
       "0 2020-10-02 20:24:36.460000+00:00             NaN   \n",
       "1 2020-10-03 11:08:52.807000+00:00             NaN   \n",
       "2 2020-10-06 07:11:42.210000+00:00             1.0   \n",
       "\n",
       "                last_activity_date                   last_edit_date  \\\n",
       "0 2020-10-03 19:36:27.847000+00:00 2020-10-03 00:43:19.873000+00:00   \n",
       "1 2020-10-04 10:24:48.673000+00:00                              NaT   \n",
       "2 2020-10-07 15:04:27.907000+00:00                              NaT   \n",
       "\n",
       "  last_editor_display_name  last_editor_user_id owner_display_name  \\\n",
       "0                     None            7589636.0       user13798483   \n",
       "1                     None                  NaN               None   \n",
       "2                     None                  NaN               None   \n",
       "\n",
       "   owner_user_id parent_id  post_type_id  score  \\\n",
       "0            NaN      None             1      0   \n",
       "1     11380853.0      None             1      2   \n",
       "2      5311841.0      None             1      0   \n",
       "\n",
       "                                                tags  view_count  \n",
       "0                     python|function|variables|line         256  \n",
       "1                                 dataweave|mulesoft         256  \n",
       "2  azure|azure-devops|agent|azure-container-insta...         256  "
      ]
     },
     "execution_count": 15,
     "metadata": {},
     "output_type": "execute_result"
    }
   ],
   "source": [
    "stack_overflow_df = query_job\\\n",
    "    .result()\\\n",
    "    .to_arrow()\\\n",
    "    .to_pandas()\n",
    "stack_overflow_df.head()"
   ]
  },
  {
   "cell_type": "code",
   "execution_count": 16,
   "id": "41323672-c156-445a-8c18-0f84b242f984",
   "metadata": {},
   "outputs": [],
   "source": [
    "INSPECT_QUERY = \"\"\"\n",
    "SELECT\n",
    "    *\n",
    "FROM\n",
    "    `bigquery-public-data.stackoverflow.posts_questions`\n",
    "\"\"\""
   ]
  },
  {
   "cell_type": "code",
   "execution_count": 17,
   "id": "b9a4cbad-063e-4b5f-8b7e-0fba440ebf1e",
   "metadata": {},
   "outputs": [],
   "source": [
    "query_job = bq_client.query(INSPECT_QUERY)"
   ]
  },
  {
   "cell_type": "code",
   "execution_count": 18,
   "id": "d05a38e4-d3f0-4a37-9513-8e6609a98e2b",
   "metadata": {},
   "outputs": [],
   "source": [
    "# will run into error\n",
    "\n",
    "# stack_overflow_df = query_job\\\n",
    "#     .result()\\\n",
    "#     .to_arrow()\\\n",
    "#     .to_pandas()\n",
    "\n",
    "# stack_overflow_df.head()"
   ]
  },
  {
   "cell_type": "code",
   "execution_count": 25,
   "id": "b98fea46-934d-46a9-adca-672c6c300912",
   "metadata": {},
   "outputs": [],
   "source": [
    "QUERY = \"\"\"\n",
    "SELECT\n",
    "    CONCAT(q.title, q.body) as input_text,\n",
    "    a.body as output_text\n",
    "FROM\n",
    "    `bigquery-public-data.stackoverflow.posts_questions` q\n",
    "JOIN\n",
    "     `bigquery-public-data.stackoverflow.posts_answers` a\n",
    "ON\n",
    "    q.accepted_answer_id = a.id\n",
    "WHERE\n",
    "    q.accepted_answer_id IS NOT NULL AND\n",
    "    REGEXP_CONTAINS(q.tags, \"python\") AND\n",
    "    a.creation_date >= \"2020-01-01\"\n",
    "LIMIT\n",
    "    10000\n",
    "\"\"\""
   ]
  },
  {
   "cell_type": "code",
   "execution_count": 26,
   "id": "cd9898e6-348b-48dc-9da5-b6fc65522f5d",
   "metadata": {},
   "outputs": [],
   "source": [
    "bq_job = bq_client.query(QUERY)"
   ]
  },
  {
   "cell_type": "code",
   "execution_count": 27,
   "id": "4a9f1a19-b2db-4227-88d9-949c4fdb072f",
   "metadata": {},
   "outputs": [
    {
     "data": {
      "text/html": [
       "<div>\n",
       "<style scoped>\n",
       "    .dataframe tbody tr th:only-of-type {\n",
       "        vertical-align: middle;\n",
       "    }\n",
       "\n",
       "    .dataframe tbody tr th {\n",
       "        vertical-align: top;\n",
       "    }\n",
       "\n",
       "    .dataframe thead th {\n",
       "        text-align: right;\n",
       "    }\n",
       "</style>\n",
       "<table border=\"1\" class=\"dataframe\">\n",
       "  <thead>\n",
       "    <tr style=\"text-align: right;\">\n",
       "      <th></th>\n",
       "      <th>input_text</th>\n",
       "      <th>output_text</th>\n",
       "    </tr>\n",
       "  </thead>\n",
       "  <tbody>\n",
       "    <tr>\n",
       "      <th>0</th>\n",
       "      <td>Writing nested list to file per line: Unsuppor...</td>\n",
       "      <td>&lt;p&gt;it seems like your code had a few bugs&lt;/p&gt;\\...</td>\n",
       "    </tr>\n",
       "    <tr>\n",
       "      <th>1</th>\n",
       "      <td>Whatsapp asking for updating chrome version&lt;p&gt;...</td>\n",
       "      <td>&lt;p&gt;The solution was to delete my saved chrome ...</td>\n",
       "    </tr>\n",
       "  </tbody>\n",
       "</table>\n",
       "</div>"
      ],
      "text/plain": [
       "                                          input_text  \\\n",
       "0  Writing nested list to file per line: Unsuppor...   \n",
       "1  Whatsapp asking for updating chrome version<p>...   \n",
       "\n",
       "                                         output_text  \n",
       "0  <p>it seems like your code had a few bugs</p>\\...  \n",
       "1  <p>The solution was to delete my saved chrome ...  "
      ]
     },
     "execution_count": 27,
     "metadata": {},
     "output_type": "execute_result"
    }
   ],
   "source": [
    "so_df = bq_job.result().to_arrow().to_pandas()\n",
    "so_df.head(2)"
   ]
  },
  {
   "cell_type": "code",
   "execution_count": 28,
   "id": "effb5143-8ed7-4bbf-8cee-1fe3cabd124a",
   "metadata": {},
   "outputs": [],
   "source": [
    "INSTRUCTION_TEMPLATE = f\"\"\"\\\n",
    "Please answer the following Stackoverflow question on Python. \\\n",
    "Answer it like you are a developer answering Stackoverflow questions.\n",
    "\n",
    "Stackoverflow question:\n",
    "\"\"\""
   ]
  },
  {
   "cell_type": "code",
   "execution_count": 43,
   "id": "6946838b-3b81-4ac9-8fb3-22cf8f91fb10",
   "metadata": {},
   "outputs": [],
   "source": [
    "so_df[\"input_text_instruction\"] = INSTRUCTION_TEMPLATE + \" \" + so_df[\"input_text\"]"
   ]
  },
  {
   "cell_type": "code",
   "execution_count": 46,
   "id": "743e3aa9-0cd9-42c7-a3e1-db04f506e2bc",
   "metadata": {},
   "outputs": [
    {
     "data": {
      "text/plain": [
       "Index(['input_text', 'output_text', 'input_text_instruction'], dtype='object')"
      ]
     },
     "execution_count": 46,
     "metadata": {},
     "output_type": "execute_result"
    }
   ],
   "source": [
    "so_df.head(2)"
   ]
  },
  {
   "cell_type": "code",
   "execution_count": 57,
   "id": "9fa19423-34a4-47e1-936b-69c5549543c8",
   "metadata": {},
   "outputs": [],
   "source": [
    "from sklearn.model_selection import train_test_split\n",
    "### test_size=0.2 means 20% for evaluation and training set to be 80%\n",
    "### random_state parameter is used to ensure random sampling for a fair comparison\n",
    "train, evaluation = train_test_split(so_df, test_size=0.2, random_state=42)"
   ]
  },
  {
   "cell_type": "code",
   "execution_count": null,
   "id": "b39fe452-0d65-4e7c-a877-096260a3c8ee",
   "metadata": {},
   "outputs": [],
   "source": [
    "print(train)"
   ]
  },
  {
   "cell_type": "code",
   "execution_count": 52,
   "id": "76f1dd96-f34c-4704-a227-798dab180607",
   "metadata": {},
   "outputs": [
    {
     "name": "stdout",
     "output_type": "stream",
     "text": [
      "10:28:05:2024\n"
     ]
    }
   ],
   "source": [
    "import datetime\n",
    "date = datetime.datetime.now().strftime(\"%H:%d:%m:%Y\")\n",
    "print(date)"
   ]
  },
  {
   "cell_type": "code",
   "execution_count": 60,
   "id": "a18c951d-0a60-4cd4-b00a-c16976fcf9f7",
   "metadata": {},
   "outputs": [],
   "source": [
    "cols = ['input_text_instruction', 'output_text']\n",
    "tune_jsonl = train[cols].to_json(orient=\"records\", lines=True)"
   ]
  },
  {
   "cell_type": "code",
   "execution_count": 61,
   "id": "93de7300-e798-46a5-8e4a-7beabb55361d",
   "metadata": {},
   "outputs": [],
   "source": [
    "training_data_filename = f\"tune_data_stack_overflow_python_qa-{date}.jsonl\""
   ]
  },
  {
   "cell_type": "code",
   "execution_count": 62,
   "id": "0c8560d5-554d-42d8-bba7-a2d3161dbf1b",
   "metadata": {},
   "outputs": [],
   "source": [
    "with open(training_data_filename, \"w\") as f:\n",
    "    f.write(tune_jsonl)"
   ]
  },
  {
   "cell_type": "code",
   "execution_count": null,
   "id": "694cebad-2828-4402-8b20-aa1e8f1083a2",
   "metadata": {},
   "outputs": [],
   "source": []
  }
 ],
 "metadata": {
  "kernelspec": {
   "display_name": "Python 3 (ipykernel)",
   "language": "python",
   "name": "python3"
  },
  "language_info": {
   "codemirror_mode": {
    "name": "ipython",
    "version": 3
   },
   "file_extension": ".py",
   "mimetype": "text/x-python",
   "name": "python",
   "nbconvert_exporter": "python",
   "pygments_lexer": "ipython3",
   "version": "3.9.17"
  }
 },
 "nbformat": 4,
 "nbformat_minor": 5
}
